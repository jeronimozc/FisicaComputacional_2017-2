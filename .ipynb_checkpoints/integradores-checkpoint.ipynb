{
 "cells": [
  {
   "cell_type": "code",
   "execution_count": null,
   "metadata": {
    "collapsed": true
   },
   "outputs": [],
   "source": [
    "from numpy import *"
   ]
  },
  {
   "cell_type": "code",
   "execution_count": null,
   "metadata": {
    "collapsed": true
   },
   "outputs": [],
   "source": [
    "def int_euler(ec,p_ini,x,h=0.1, **kwargs):\n",
    "    if abs(x[1]-x[0])<=5.*h:\n",
    "        h = abs(x[1]-x[0])/100\n",
    "    tiempos = arange(x[0],x[1]+h,h)\n",
    "    sol = np.zeros((len(tiempos),len(p_ini)))\n",
    "    sol[0,:] = p_ini\n",
    "    for i in range(len(tiempos)-1):\n",
    "        sol[i+1] = sol[i] + h*ec(sol[i],tiempos[i], **kwargs)\n",
    "    return tiempos,sol"
   ]
  },
  {
   "cell_type": "code",
   "execution_count": null,
   "metadata": {
    "collapsed": true
   },
   "outputs": [],
   "source": [
    "def int_ty2(ec,d_ec,p_ini,x,h=0.1, **kwargs):\n",
    "    if abs(x[1]-x[0])<=10.*h:\n",
    "        h = abs(x[1]-x[0])/100\n",
    "    tiempos = arange(x[0],x[1]+h,h)\n",
    "    sol = zeros((len(tiempos),len(p_ini)))\n",
    "    sol[0,:] = p_ini\n",
    "    for i in xrange(len(tiempos)-1):\n",
    "        f=ec(sol[i,:],tiempos[i], **kwargs)\n",
    "        df,jac=d_ec(sol[i,:],tiempos[i], **kwargs)\n",
    "        sol[i+1,:]=sol[i,:]+h*f+(0.5*h*h*(jac[0] + dot(jac[1],f)))\n",
    "    return tiempos,sol"
   ]
  },
  {
   "cell_type": "code",
   "execution_count": null,
   "metadata": {
    "collapsed": true
   },
   "outputs": [],
   "source": [
    "def int_rk2(ec, p_ini, x, h=0.1, **kwargs):\n",
    "    if abs(x[1]-x[0])<=10.*h:\n",
    "        h = abs(x[1]-x[0])/100\n",
    "    tiempos = arange(x[0],x[1]+h,h)\n",
    "    sol = zeros((len(tiempos),len(p_ini)))\n",
    "    sol[0,:] = p_ini\n",
    "    for i in xrange(len(tiempos)-1):\n",
    "        f = ec(sol[i,:], tiempos[i], **kwargs)\n",
    "        f_next = ec(sol[i,:]+(h/2)*f,tiempos[i]+h/2, **kwargs)\n",
    "        y_next = sol[i,:] + h*f_next\n",
    "        sol[i+1,:]=y_next\n",
    "    return tiempos,sol"
   ]
  },
  {
   "cell_type": "code",
   "execution_count": null,
   "metadata": {
    "collapsed": true
   },
   "outputs": [],
   "source": [
    "def int_rk4(ec, p_ini, x, h=0.1, **kwargs):\n",
    "    if abs(x[1]-x[0])<=10.*h:\n",
    "        h = abs(x[1]-x[0])/100\n",
    "    tiempos = arange(x[0],x[1]+h,h)\n",
    "    sol = zeros((len(tiempos),len(p_ini)))\n",
    "    sol[0,:] = p_ini\n",
    "    for i in xrange(len(tiempos)-1):\n",
    "        k1 = ec(sol[i,:]         ,tiempos[i]      , **kwargs)\n",
    "        k2 = ec(sol[i,:]+0.5*h*k1,tiempos[i]+0.5*h, **kwargs)\n",
    "        k3 = ec(sol[i,:]+0.5*h*k2,tiempos[i]+0.5*h, **kwargs)\n",
    "        k4 = ec(sol[i,:]+h*k3    ,tiempos[i]+h    , **kwargs)\n",
    "        sol[i+1,:] = sol[i,:] + (h/6.0)*(k1+2*k2+2*k3+k4)\n",
    "    return tiempos,sol"
   ]
  }
 ],
 "metadata": {
  "kernelspec": {
   "display_name": "Python 2",
   "language": "python",
   "name": "python2"
  },
  "language_info": {
   "codemirror_mode": {
    "name": "ipython",
    "version": 2
   },
   "file_extension": ".py",
   "mimetype": "text/x-python",
   "name": "python",
   "nbconvert_exporter": "python",
   "pygments_lexer": "ipython2",
   "version": "2.7.12"
  }
 },
 "nbformat": 4,
 "nbformat_minor": 0
}
