{
 "cells": [
  {
   "cell_type": "code",
   "execution_count": null,
   "metadata": {
    "collapsed": true
   },
   "outputs": [],
   "source": [
    "from pylab import *\n",
    "%matplotlib inline"
   ]
  },
  {
   "cell_type": "code",
   "execution_count": null,
   "metadata": {
    "collapsed": true
   },
   "outputs": [],
   "source": [
    "def f(x, omega =1.):\n",
    "    return sin(x*omega)\n",
    "\n",
    "def g(h_de_x,x, args = []):\n",
    "    if len([args]) == 0:\n",
    "        return exp(-x)*h_de_x(x)\n",
    "    else:\n",
    "        return exp(-x)*h_de_x(x,args)"
   ]
  },
  {
   "cell_type": "code",
   "execution_count": null,
   "metadata": {
    "collapsed": false
   },
   "outputs": [],
   "source": [
    "x = linspace(0,2*pi,200)\n",
    "for i in range(5):\n",
    "    subplot(121)\n",
    "    plot(x,f(x,i))\n",
    "    r = f(x,i)\n",
    "    subplot(122)\n",
    "    plot(x,g(f,x,i))\n",
    "show()"
   ]
  },
  {
   "cell_type": "code",
   "execution_count": null,
   "metadata": {
    "collapsed": true
   },
   "outputs": [],
   "source": [
    "def int_rk4(ec,p_ini,x, args = 0,h=0.001):\n",
    "    if abs(x[1]-x[0])<=5.*h:\n",
    "        h = abs(x[1]-x[0])/100\n",
    "    tiempos = arange(x[0],x[1]+h,h)\n",
    "    sol = zeros((len(tiempos),len(p_ini)))\n",
    "    sol[0,:] = p_ini\n",
    "    \n",
    "    if args == 0:\n",
    "        for i in xrange(len(tiempos)-1):\n",
    "            k1 = ec(sol[i,:],tiempos[i])\n",
    "            k2 = ec(sol[i,:]+0.5*h*k1,tiempos[i]+0.5*h)\n",
    "            k3 = ec(sol[i,:]+0.5*h*k2,tiempos[i]+0.5*h)\n",
    "            k4 = ec(sol[i,:]+h*k3,tiempos[i]+h)\n",
    "            sol[i+1,:] = sol[i,:] + (h/6.0)*(k1+2*k2+2*k3+k4)\n",
    "        return tiempos,sol\n",
    "    else:\n",
    "        for i in xrange(len(tiempos)-1):\n",
    "            k1 = ec(sol[i,:],tiempos[i], args)\n",
    "            k2 = ec(sol[i,:]+0.5*h*k1,tiempos[i]+0.5*h, args)\n",
    "            k3 = ec(sol[i,:]+0.5*h*k2,tiempos[i]+0.5*h, args)\n",
    "            k4 = ec(sol[i,:]+h*k3,tiempos[i]+h, args)\n",
    "            sol[i+1,:] = sol[i,:] + (h/6.0)*(k1+2*k2+2*k3+k4)\n",
    "        return tiempos,sol"
   ]
  },
  {
   "cell_type": "markdown",
   "metadata": {},
   "source": [
    "Consideramos ahora el caso de un tiro parabólico con resistencia al aire. La resistencia por la fricción provoca una aceleración que esta dada por: $$\\dot{\\vec{u}}=-\\frac{g}{m}\\hat{j}-\\frac{f}{m}\\frac{\\vec{u}}{||\\vec{u}||}$$"
   ]
  },
  {
   "cell_type": "code",
   "execution_count": null,
   "metadata": {
    "collapsed": true
   },
   "outputs": [],
   "source": [
    "def ec_mov(r_v, t, fric = 0., g = 9.81, m = 1.):\n",
    "    u = sqrt(r_v[2]**2 + r_v[3]**2)\n",
    "    dx = r_v[2]\n",
    "    dy = r_v[3]\n",
    "    if fric == 0.:\n",
    "        dvx = 0.\n",
    "        dvy = -g/m\n",
    "    else:\n",
    "        dvx = -fric([r_v[2], r_v[3]])[0]\n",
    "        dvy = -g/m -fric([r_v[2], r_v[3]])[1]\n",
    "    return array([dx,dy,dvx,dvy])\n",
    "def fricNul(v):\n",
    "    return array([0,0])\n",
    "def fricV1(v, gamma = 0.1):\n",
    "    f_x = gamma*v[0]\n",
    "    f_y = gamma*v[1]\n",
    "    return array([f_x,f_y])\n",
    "def fricV2(v, gamma = 0.1):\n",
    "    norma = sqrt(v[0]**2+v[1]**2)\n",
    "    f_x = gamma*norma*v[0]\n",
    "    f_y = gamma*norma*v[1]\n",
    "    return array([f_x,f_y])"
   ]
  },
  {
   "cell_type": "code",
   "execution_count": null,
   "metadata": {
    "collapsed": true
   },
   "outputs": [],
   "source": [
    "def movPlaneta(x,t):\n",
    "    r = sqrt(x[0]**2 + x[1]**2)\n",
    "    drx = x[2]\n",
    "    dry = x[3]\n",
    "    dvx = -x[0]/r**3\n",
    "    dvy = -x[1]/r**3\n",
    "    return array([drx,dry,dvx,dvy])"
   ]
  },
  {
   "cell_type": "code",
   "execution_count": null,
   "metadata": {
    "collapsed": false
   },
   "outputs": [],
   "source": [
    "p = [0,0,5,5]\n",
    "t,sol_id = int_rk4(ec_mov, p, [0,1])\n",
    "plot(sol_id[:,0], sol_id[:,1],label=\"ideal\")\n",
    "t,sol_fr = int_rk4(ec_mov, p, [0,1], fricV1)\n",
    "plot(sol_fr[:,0], sol_fr[:,1], label = \"lineal\")\n",
    "t,sol_fr = int_rk4(ec_mov, p, [0,1], fricV2)\n",
    "plot(sol_fr[:,0], sol_fr[:,1], label = \"cuadratico\")\n",
    "title('Tiro con Resistencia')\n",
    "legend()\n",
    "show()"
   ]
  },
  {
   "cell_type": "markdown",
   "metadata": {
    "collapsed": true
   },
   "source": [
    "Ahora deseamos hallar el punto donde la solución cruza el eje x (y=0) para hacer un rebote del proyectil. "
   ]
  },
  {
   "cell_type": "code",
   "execution_count": null,
   "metadata": {
    "collapsed": false
   },
   "outputs": [],
   "source": [
    "inicio = [0,0,5,5]\n",
    "N=150\n",
    "trayectoria=zeros((N,len(inicio)))\n",
    "mi_dt=0.1\n",
    "trayectoria[0,:]=array(inicio)\n",
    "\n",
    "for i in range(N-1):\n",
    "    t,sol=int_rk4(ec_mov,trayectoria[i,:],[0,mi_dt],fricV1)\n",
    "    \n",
    "    if sol[-1,:][1]<0:\n",
    "        print \"buscando punto de rebote\"\n",
    "        dt_busqueda = mi_dt/2\n",
    "        y_izq = trayectoria[i,:]\n",
    "        t,sol = int_rk4(ec_mov,trayectoria[i,:],[0,dt_busqueda],fricV1)\n",
    "        y_med = sol[-1,:]\n",
    "        \n",
    "        while abs(y_izq[1]) > 1e-5:\n",
    "            if y_izq[1]*y_med[1] < 0.0:\n",
    "                reinicio = y_izq\n",
    "            else:\n",
    "                reinicio = y_med\n",
    "            dt_busqueda = dt_busqueda/2\n",
    "            t,sol = int_rk4(ec_mov,reinicio,[0,dt_busqueda],fricV1)\n",
    "            y_izq = reinicio\n",
    "            y_med = sol[-1,:]\n",
    "            \n",
    "        print y_izq\n",
    "        trayectoria[i+1,:] = y_izq\n",
    "        trayectoria[i+1,:][3] *= -1\n",
    "    \n",
    "    else:\n",
    "        trayectoria[i+1,:] = sol[-1,:]\n",
    "    \n",
    "tfv,sol_fv=int_rk4(ec_mov,inicio,[0,1],fricV1)    \n",
    "plot(sol_fv[:,0],sol_fv[:,1],'o')    \n",
    "plot(trayectoria[:,0],trayectoria[:,1],'--')\n",
    "show()"
   ]
  },
  {
   "cell_type": "code",
   "execution_count": null,
   "metadata": {
    "collapsed": false
   },
   "outputs": [],
   "source": [
    "p = [0,0,5,5]\n",
    "N = 500\n",
    "trayectoria = zeros((N,len(p)))\n",
    "mi_dt = 0.1\n",
    "trayectoria[0,:] = array(p)\n",
    "for i in range(N-1):\n",
    "    t, sol = int_rk4(ec_mov,trayectoria[i,:],[0,mi_dt],fricV1)\n",
    "    if sol[-1,:][1] < 0:\n",
    "        dt_busqueda = mi_dt/2\n",
    "        y_izq = trayectoria[i,:]\n",
    "        t, sol = int_rk4(ec_mov,trayectoria[i,:],[0,dt_busqueda],fricV1)\n",
    "        y_med = sol[-1,:]\n",
    "\n",
    "        while abs(y_izq[1])>1e-5:\n",
    "            dt_busqueda = dt_busqueda/2\n",
    "            if y_izq[1]*y_med[1] < 0:\n",
    "                reinicio = y_izq\n",
    "            else:\n",
    "                reinicio = y_med\n",
    "            t, sol = int_rk4(ec_mov,reinicio,[0,dt_busqueda],fricV1)\n",
    "            \n",
    "            y_izq = reinicio\n",
    "            y_med = sol[-1,:]\n",
    "            \n",
    "        trayectoria[i+1,:] = y_izq\n",
    "        trayectoria[i+1,:][3] *= -1.\n",
    "    else:\n",
    "        trayectoria[i+1,:] = sol[-1,:]\n",
    "\n",
    "plot(trayectoria[:,0],trayectoria[:,1], label=\"Te odio Diego\")\n",
    "plot(sol_fv[:,0],sol_fv[:,1], label=\"Por siempre\")\n",
    "legend()\n",
    "show()"
   ]
  }
 ],
 "metadata": {
  "kernelspec": {
   "display_name": "Python 2",
   "language": "python",
   "name": "python2"
  },
  "language_info": {
   "codemirror_mode": {
    "name": "ipython",
    "version": 2
   },
   "file_extension": ".py",
   "mimetype": "text/x-python",
   "name": "python",
   "nbconvert_exporter": "python",
   "pygments_lexer": "ipython2",
   "version": "2.7.12"
  }
 },
 "nbformat": 4,
 "nbformat_minor": 0
}
