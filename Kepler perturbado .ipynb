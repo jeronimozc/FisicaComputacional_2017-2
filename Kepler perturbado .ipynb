{
 "cells": [
  {
   "cell_type": "code",
   "execution_count": null,
   "metadata": {
    "collapsed": true
   },
   "outputs": [],
   "source": [
    "from pylab import *\n",
    "from scipy.integrate import *\n",
    "%run integradores.ipynb\n",
    "%matplotlib inline"
   ]
  },
  {
   "cell_type": "markdown",
   "metadata": {},
   "source": [
    "# Problema de Kepler asimétrico"
   ]
  },
  {
   "cell_type": "markdown",
   "metadata": {},
   "source": [
    "Este sistema de ecuaciones proviene de plantear las ecuaciones de Hamilton usando la energía que describiamos mas abajo."
   ]
  },
  {
   "cell_type": "code",
   "execution_count": null,
   "metadata": {
    "collapsed": false
   },
   "outputs": [],
   "source": [
    "def ec_mov(x_p,t,a):\n",
    "    \"\"\"\n",
    "    x_p representa a x, y, px, py\n",
    "    \"\"\"\n",
    "    r32 = (sum(x_p[0:2]**2))**(1.5)\n",
    "    pert = 1.0+a\n",
    "    dx = x_p[2]*pert\n",
    "    dy = x_p[3]\n",
    "    dpx = -x_p[0]*pert/r32\n",
    "    dpy = -x_p[1]*pert/r32\n",
    "    return array([dx,dy,dpx,dpy])"
   ]
  },
  {
   "cell_type": "code",
   "execution_count": null,
   "metadata": {
    "collapsed": false
   },
   "outputs": [],
   "source": [
    "p_ini = [1,0,0,0.5]\n",
    "t,sol = int_rk4(ec_mov,p_ini,[0,30],h=0.001,a=0.05)\n",
    "plot(sol[:,0],sol[:,1])"
   ]
  },
  {
   "cell_type": "code",
   "execution_count": null,
   "metadata": {
    "collapsed": false
   },
   "outputs": [],
   "source": [
    "p_ini = [1,0,0,1]\n",
    "t = linspace(0,2*pi*100,10000)\n",
    "sol = odeint(ec_mov,p_ini,t,args=(0.05,))\n",
    "plot(sol[:,0],sol[:,1])"
   ]
  },
  {
   "cell_type": "markdown",
   "metadata": {},
   "source": [
    "Problema de inflexión numérica...?\n",
    "\n",
    "Tenemos que buscar nuestra energía negativa"
   ]
  },
  {
   "cell_type": "code",
   "execution_count": null,
   "metadata": {
    "collapsed": false
   },
   "outputs": [],
   "source": [
    "def Energia(x_p,a):\n",
    "    x,y,px,py = x_p[:,0],x_p[:,1],x_p[:,2],x_p[:,3]\n",
    "    E = 0.5*(px*px*(1+a) + py*py) - ((1.0+a)/sqrt(x*x+y*y))\n",
    "    return E\n",
    "\n",
    "def L_z()"
   ]
  },
  {
   "cell_type": "code",
   "execution_count": null,
   "metadata": {
    "collapsed": false
   },
   "outputs": [],
   "source": [
    "E = Energia(sol,0.05)\n",
    "ylim(E[0]-10e-4,E[0]+10e-4)\n",
    "plot(t/(2*pi),E)"
   ]
  }
 ],
 "metadata": {
  "kernelspec": {
   "display_name": "Python 2",
   "language": "python",
   "name": "python2"
  },
  "language_info": {
   "codemirror_mode": {
    "name": "ipython",
    "version": 2
   },
   "file_extension": ".py",
   "mimetype": "text/x-python",
   "name": "python",
   "nbconvert_exporter": "python",
   "pygments_lexer": "ipython2",
   "version": "2.7.12"
  }
 },
 "nbformat": 4,
 "nbformat_minor": 0
}
