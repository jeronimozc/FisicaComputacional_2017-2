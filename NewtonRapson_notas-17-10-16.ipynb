{
 "cells": [
  {
   "cell_type": "code",
   "execution_count": null,
   "metadata": {
    "collapsed": true
   },
   "outputs": [],
   "source": [
    "from pylab import *\n",
    "from scipy.integrate import *\n",
    "%matplotlib inline"
   ]
  },
  {
   "cell_type": "code",
   "execution_count": null,
   "metadata": {
    "collapsed": true
   },
   "outputs": [],
   "source": [
    "def osc(y_v,t,omega2=1.0):\n",
    "    # y_v son las vatiables y, v respectivamente\n",
    "    dy = y_v[1]\n",
    "    dv = -omega2*y_v[0]\n",
    "    return array([dy,dv])"
   ]
  },
  {
   "cell_type": "code",
   "execution_count": null,
   "metadata": {
    "collapsed": false
   },
   "outputs": [],
   "source": [
    "t   = linspace(0,100,1000)\n",
    "ini = array([0.,1.])\n",
    "sol = odeint(osc,ini,t)\n",
    "figure(figsize=(10,6))\n",
    "plot(t,sol[:,0],label=\"$y$\")\n",
    "plot(t,sol[:,1],label=\"$\\dot y$\")\n",
    "grid(True); legend(fontsize=16)\n",
    "show()"
   ]
  },
  {
   "cell_type": "code",
   "execution_count": null,
   "metadata": {
    "collapsed": true
   },
   "outputs": [],
   "source": [
    "def root_trayec(func,pto_i,ti,error=1e-5):\n",
    "    while abs(pto_i[0])>error:\n",
    "        tip1 = ti - (pto_i[0]/pto_i[1])\n",
    "        paso = odeint(osc,pto_i,[ti,tip1])\n",
    "        ti,pto_i = tip1,paso[-1]\n",
    "    return ti,pto_i    "
   ]
  },
  {
   "cell_type": "code",
   "execution_count": null,
   "metadata": {
    "collapsed": false
   },
   "outputs": [],
   "source": [
    "num = len(t)\n",
    "raices = zeros(num)\n",
    "puntos = zeros((num,2))\n",
    "j = 0\n",
    "for i in xrange(len(t)-1):\n",
    "    if (sol[i][0]*sol[i+1][0])<0:\n",
    "        raices[j],puntos[j] = root_trayec(osc,sol[i],t[i])\n",
    "        j += 1\n",
    "raices = raices[0:j]\n",
    "puntos = puntos[0:j]"
   ]
  },
  {
   "cell_type": "code",
   "execution_count": null,
   "metadata": {
    "collapsed": false
   },
   "outputs": [],
   "source": [
    "raices"
   ]
  },
  {
   "cell_type": "code",
   "execution_count": null,
   "metadata": {
    "collapsed": false
   },
   "outputs": [],
   "source": [
    "xlim([-1.1,+1.1]),ylim([-1.1,+1.1])\n",
    "plot(puntos[:,0],puntos[:,1],\"x\")\n",
    "show()"
   ]
  }
 ],
 "metadata": {
  "kernelspec": {
   "display_name": "Python 2",
   "language": "python",
   "name": "python2"
  },
  "language_info": {
   "codemirror_mode": {
    "name": "ipython",
    "version": 2
   },
   "file_extension": ".py",
   "mimetype": "text/x-python",
   "name": "python",
   "nbconvert_exporter": "python",
   "pygments_lexer": "ipython2",
   "version": "2.7.12"
  }
 },
 "nbformat": 4,
 "nbformat_minor": 0
}
