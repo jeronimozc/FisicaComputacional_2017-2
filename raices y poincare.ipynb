{
 "cells": [
  {
   "cell_type": "code",
   "execution_count": null,
   "metadata": {
    "collapsed": false
   },
   "outputs": [],
   "source": [
    "from pylab import *\n",
    "from scipy.integrate import *\n",
    "%matplotlib inline"
   ]
  },
  {
   "cell_type": "code",
   "execution_count": null,
   "metadata": {
    "collapsed": true
   },
   "outputs": [],
   "source": [
    "def osc(y_v, t, omega2=1):\n",
    "    dy = y_v[1]\n",
    "    dv = -omega2*y_v[0]\n",
    "    return array([dy, dv])"
   ]
  },
  {
   "cell_type": "code",
   "execution_count": null,
   "metadata": {
    "collapsed": false
   },
   "outputs": [],
   "source": [
    "t = linspace(0,40, 100)\n",
    "ini = array([0,1])\n",
    "\n",
    "sol = odeint(osc, ini, t)\n",
    "plot(t, sol[:,0])\n",
    "plot(t, sol[:,1])"
   ]
  },
  {
   "cell_type": "code",
   "execution_count": null,
   "metadata": {
    "collapsed": true
   },
   "outputs": [],
   "source": [
    "def root_trayect(func, pto_i, ti, error=1e-5):\n",
    "    while abs(pto_i[0])>error:\n",
    "        ti1 = ti - pto_i[0]/pto_i[1]\n",
    "        sol = odeint(func, pto_i, [ti,ti1])\n",
    "        ti = ti1\n",
    "        pto_i = sol[-1]\n",
    "    return ti, pto_i"
   ]
  },
  {
   "cell_type": "code",
   "execution_count": null,
   "metadata": {
    "collapsed": false
   },
   "outputs": [],
   "source": [
    "ind = 10\n",
    "\n",
    "ti = t[ind]\n",
    "pto_i = sol[ind]\n",
    "root_trayect(osc, pto_i, ti, error=1e-5)"
   ]
  },
  {
   "cell_type": "code",
   "execution_count": null,
   "metadata": {
    "collapsed": true
   },
   "outputs": [],
   "source": [
    "num = len(t)\n",
    "raices = zeros(num)\n",
    "puntos = zeros((num,2))\n",
    "j=0\n",
    "for i in range(len(t)-1):\n",
    "    if sol[i][0]*sol[i+1][0]<0:\n",
    "        raices[j], puntos[j] = root_trayect(osc, sol[i], t[i], error=1e-5)\n",
    "        j += 1\n",
    "raices = raices[0:j]\n",
    "puntos = puntos[0:j]"
   ]
  },
  {
   "cell_type": "markdown",
   "metadata": {},
   "source": [
    "Esto es un mapeo de Poincaré"
   ]
  },
  {
   "cell_type": "code",
   "execution_count": null,
   "metadata": {
    "collapsed": false
   },
   "outputs": [],
   "source": [
    "xlim(-1,1)\n",
    "ylim(-1.1,1.1)\n",
    "plot(puntos[:,0], puntos[:,1], 'x')"
   ]
  },
  {
   "cell_type": "code",
   "execution_count": null,
   "metadata": {
    "collapsed": true
   },
   "outputs": [],
   "source": [
    "def osc_fric(y_v, t, omega2=1, gamma=0.1):\n",
    "    dy = y_v[1]\n",
    "    dv = -omega2*y_v[0] - gamma*y_v[1]\n",
    "    return array([dy, dv])"
   ]
  },
  {
   "cell_type": "code",
   "execution_count": null,
   "metadata": {
    "collapsed": false
   },
   "outputs": [],
   "source": [
    "t = linspace(0, 400, 10000)\n",
    "ini = array([0,1])\n",
    "\n",
    "sol = odeint(osc_fric, ini, t)\n",
    "plot(t, sol[:,0])\n",
    "plot(t, sol[:,1])"
   ]
  },
  {
   "cell_type": "code",
   "execution_count": null,
   "metadata": {
    "collapsed": false
   },
   "outputs": [],
   "source": [
    "num = len(t)\n",
    "raices = zeros(num)\n",
    "puntos = zeros((num,2))\n",
    "j=0\n",
    "for i in range(len(t)-1):\n",
    "    if sol[i][0]*sol[i+1][0]<0:\n",
    "        raices[j], puntos[j] = root_trayect(osc_fric, sol[i], t[i], error=1e-5)\n",
    "        j += 1\n",
    "raices = raices[0:j]\n",
    "puntos = puntos[0:j]\n",
    "\n",
    "xlim(-1,1)\n",
    "ylim(-1.1,1.1)\n",
    "plot(puntos[:,0], puntos[:,1], 'x')"
   ]
  },
  {
   "cell_type": "markdown",
   "metadata": {
    "collapsed": true
   },
   "source": [
    "# 2D"
   ]
  },
  {
   "cell_type": "code",
   "execution_count": null,
   "metadata": {
    "collapsed": false
   },
   "outputs": [],
   "source": [
    "def ec_mov(x, t, epsilon=1.):\n",
    "    r32 = sqrt(x[0]*x[0]+x[1]*x[1])**3\n",
    "    ddx = -x[0]/r32\n",
    "    ddy = -x[1]/r32\n",
    "    return array([x[2],epsilon*x[3],ddx, ddy])\n",
    "\n",
    "def energia(x, epsilon=1.):\n",
    "    return 0.5*(x[2]*x[2]+epsilon*x[3]*x[3])-1./sqrt(x[0]*x[0]+x[1]*x[1])"
   ]
  },
  {
   "cell_type": "code",
   "execution_count": null,
   "metadata": {
    "collapsed": false
   },
   "outputs": [],
   "source": [
    "t = linspace(0, 10, 2000)\n",
    "fig = figure(figsize=(7,7))\n",
    "ax = fig.add_subplot(111)\n",
    "\n",
    "for ang in linspace(0, 2*pi, 10):\n",
    "    p_ini = array([cos(ang), sin(ang), 0.5, 0.5])\n",
    "    sol = odeint(ec_mov, p_ini, t)\n",
    "    ax.plot(sol[:,0],sol[:,1])"
   ]
  },
  {
   "cell_type": "code",
   "execution_count": null,
   "metadata": {
    "collapsed": false
   },
   "outputs": [],
   "source": [
    "t = linspace(0, 50, 1000)\n",
    "fig = figure(figsize=(7,7))\n",
    "ax = fig.add_subplot(111)\n",
    "\n",
    "for ang in linspace(0, 2*pi, 10):\n",
    "    p_ini = array([cos(ang), sin(ang), 0.5, 0.5])\n",
    "    sol = odeint(ec_mov, p_ini, t, args=(1.1,), atol=1e-10, rtol=1e-10)\n",
    "    ax.plot(sol[:,0],sol[:,1])"
   ]
  },
  {
   "cell_type": "code",
   "execution_count": null,
   "metadata": {
    "collapsed": true
   },
   "outputs": [],
   "source": [
    "def random_start(alpha, var=0.01):\n",
    "    ang = alpha + var*randn()\n",
    "    return array([cos(ang), sin(ang), 0.5, 0.5])"
   ]
  },
  {
   "cell_type": "code",
   "execution_count": null,
   "metadata": {
    "collapsed": false
   },
   "outputs": [],
   "source": [
    "t = linspace(0, 50, 10000)\n",
    "fig = figure(figsize=(7,7))\n",
    "ax = fig.add_subplot(111)\n",
    "\n",
    "for ang in linspace(0, 2*pi, 10):\n",
    "    p_ini = random_start(0)\n",
    "    sol = odeint(ec_mov, p_ini, t, args=(1.0,), atol=1e-10, rtol=1e-10)\n",
    "    ax.plot(sol[:,0],sol[:,1])"
   ]
  },
  {
   "cell_type": "code",
   "execution_count": null,
   "metadata": {
    "collapsed": false
   },
   "outputs": [],
   "source": [
    "def p_rho(x):\n",
    "    # x_p = \n",
    "    r = sqrt(x[:,0]*x[:,0]+x[:,1]*x[:,1])\n",
    "    p = (x[:,2]*x[:,0]+x[:,3]*x[:,1])/r\n",
    "    return r, p"
   ]
  },
  {
   "cell_type": "code",
   "execution_count": null,
   "metadata": {
    "collapsed": false
   },
   "outputs": [],
   "source": [
    "from multiprocessing import Pool\n",
    "\n",
    "def f(x):\n",
    "    return x*x\n",
    "\n",
    "if __name__ == '__main__':\n",
    "    with Pool(5) as p:\n",
    "        print(p.map(f, [1, 2, 3]))"
   ]
  },
  {
   "cell_type": "code",
   "execution_count": null,
   "metadata": {
    "collapsed": false
   },
   "outputs": [],
   "source": [
    "r, p = p_rho(sol)\n",
    "plot(r,p)"
   ]
  }
 ],
 "metadata": {
  "kernelspec": {
   "display_name": "Python 2",
   "language": "python",
   "name": "python2"
  },
  "language_info": {
   "codemirror_mode": {
    "name": "ipython",
    "version": 2
   },
   "file_extension": ".py",
   "mimetype": "text/x-python",
   "name": "python",
   "nbconvert_exporter": "python",
   "pygments_lexer": "ipython2",
   "version": "2.7.12"
  }
 },
 "nbformat": 4,
 "nbformat_minor": 0
}
