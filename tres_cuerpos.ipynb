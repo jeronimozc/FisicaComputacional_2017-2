{
 "cells": [
  {
   "cell_type": "code",
   "execution_count": null,
   "metadata": {
    "collapsed": true
   },
   "outputs": [],
   "source": [
    "from pylab import *\n",
    "%run integradores.ipynb\n",
    "%matplotlib inline"
   ]
  },
  {
   "cell_type": "code",
   "execution_count": null,
   "metadata": {
    "collapsed": true
   },
   "outputs": [],
   "source": [
    "def mov(xp_xs,t,a_b=[0,0],w=0.1):\n",
    "    \"\"\"\n",
    "    El primer argumento debe contener:\n",
    "    xp_xs = [Xp,Yp,Vxp,Vyp,Xs,Ys,Vxs,Vys]\n",
    "    \"\"\"\n",
    "    rp = sqrt(sum(xp_xs[0:2]**2))\n",
    "    rs = sqrt(sum(xp_xs[4:6]**2))\n",
    "    dif_xp_xs = xp_xs[0:2]-xp_xs[4:6]\n",
    "    dist_xp_xs = sqrt(sum(dif_xp_xs**2))\n",
    "    \n",
    "    dxp, dyp = xp_xs[2], xp_xs[3]\n",
    "    dvxp = -xp_xs[0]/(rp**3) - (a_b[0]*dif_xp_xs[0])/(dist_xp_xs**3)\n",
    "    dvyp = -xp_xs[1]/(rp**3) - (a_b[0]*dif_xp_xs[1])/(dist_xp_xs**3)\n",
    "    \n",
    "    dxs, dys = xp_xs[6], xp_xs[7]\n",
    "    dvxs = -xp_xs[4]/(rs**3) + (a_b[1]*dif_xp_xs[0])/(dist_xp_xs**3)\n",
    "    dvys = -xp_xs[5]/(rs**3) + (a_b[1]*dif_xp_xs[1])/(dist_xp_xs**3)\n",
    "    \n",
    "    return array([ dxp, dyp, dvxp, dvyp, dxs, dys, dvxs, dvys])"
   ]
  },
  {
   "cell_type": "code",
   "execution_count": null,
   "metadata": {
    "collapsed": false
   },
   "outputs": [],
   "source": [
    "inicial = [-1,-1,0,-0.5,1,1,0,0.5]\n",
    "t,r = int_rk4(mov,inicial,[0,4.37*pi],h=0.001,a_b=[2.0,1.0])"
   ]
  },
  {
   "cell_type": "code",
   "execution_count": null,
   "metadata": {
    "collapsed": false
   },
   "outputs": [],
   "source": [
    "plot(r[:,0],r[:,1])\n",
    "plot(r[:,4],r[:,5])\n",
    "plot([0],[0],\"*\",color=\"yellow\",markersize=15)\n",
    "xlim(-3.5,+1); ylim(-3,+2); grid(True)"
   ]
  }
 ],
 "metadata": {
  "kernelspec": {
   "display_name": "Python 2",
   "language": "python",
   "name": "python2"
  },
  "language_info": {
   "codemirror_mode": {
    "name": "ipython",
    "version": 2
   },
   "file_extension": ".py",
   "mimetype": "text/x-python",
   "name": "python",
   "nbconvert_exporter": "python",
   "pygments_lexer": "ipython2",
   "version": "2.7.12"
  }
 },
 "nbformat": 4,
 "nbformat_minor": 0
}
